{
  "cells": [
    {
      "cell_type": "markdown",
      "id": "459ca3d8-b8b2-4b7c-ad46-56d010df13b7",
      "metadata": {
        "id": "459ca3d8-b8b2-4b7c-ad46-56d010df13b7"
      },
      "source": [
        "![Imgur](https://i.imgur.com/5pXzCIu.png)\n",
        "\n",
        "# Data Science va Sun'iy Intellekt Praktikum\n",
        "\n",
        "## 5-MODUL. Machine Learning.\n",
        "\n",
        "### Non-Linear Regression\n",
        "\n",
        "# Polynomial Regression"
      ]
    },
    {
      "cell_type": "code",
      "execution_count": null,
      "id": "ad8a0510-308e-414a-95e5-560952a91cfc",
      "metadata": {
        "id": "ad8a0510-308e-414a-95e5-560952a91cfc",
        "outputId": "ec950b16-b240-449a-f264-041b7a5d5aca"
      },
      "outputs": [
        {
          "data": {
            "text/html": [
              "<div>\n",
              "<style scoped>\n",
              "    .dataframe tbody tr th:only-of-type {\n",
              "        vertical-align: middle;\n",
              "    }\n",
              "\n",
              "    .dataframe tbody tr th {\n",
              "        vertical-align: top;\n",
              "    }\n",
              "\n",
              "    .dataframe thead th {\n",
              "        text-align: right;\n",
              "    }\n",
              "</style>\n",
              "<table border=\"1\" class=\"dataframe\">\n",
              "  <thead>\n",
              "    <tr style=\"text-align: right;\">\n",
              "      <th></th>\n",
              "      <th>Year</th>\n",
              "      <th>Value</th>\n",
              "    </tr>\n",
              "  </thead>\n",
              "  <tbody>\n",
              "    <tr>\n",
              "      <th>0</th>\n",
              "      <td>1960</td>\n",
              "      <td>5.918412e+10</td>\n",
              "    </tr>\n",
              "    <tr>\n",
              "      <th>1</th>\n",
              "      <td>1961</td>\n",
              "      <td>4.955705e+10</td>\n",
              "    </tr>\n",
              "    <tr>\n",
              "      <th>2</th>\n",
              "      <td>1962</td>\n",
              "      <td>4.668518e+10</td>\n",
              "    </tr>\n",
              "    <tr>\n",
              "      <th>3</th>\n",
              "      <td>1963</td>\n",
              "      <td>5.009730e+10</td>\n",
              "    </tr>\n",
              "    <tr>\n",
              "      <th>4</th>\n",
              "      <td>1964</td>\n",
              "      <td>5.906225e+10</td>\n",
              "    </tr>\n",
              "    <tr>\n",
              "      <th>5</th>\n",
              "      <td>1965</td>\n",
              "      <td>6.970915e+10</td>\n",
              "    </tr>\n",
              "    <tr>\n",
              "      <th>6</th>\n",
              "      <td>1966</td>\n",
              "      <td>7.587943e+10</td>\n",
              "    </tr>\n",
              "    <tr>\n",
              "      <th>7</th>\n",
              "      <td>1967</td>\n",
              "      <td>7.205703e+10</td>\n",
              "    </tr>\n",
              "    <tr>\n",
              "      <th>8</th>\n",
              "      <td>1968</td>\n",
              "      <td>6.999350e+10</td>\n",
              "    </tr>\n",
              "    <tr>\n",
              "      <th>9</th>\n",
              "      <td>1969</td>\n",
              "      <td>7.871882e+10</td>\n",
              "    </tr>\n",
              "  </tbody>\n",
              "</table>\n",
              "</div>"
            ],
            "text/plain": [
              "   Year         Value\n",
              "0  1960  5.918412e+10\n",
              "1  1961  4.955705e+10\n",
              "2  1962  4.668518e+10\n",
              "3  1963  5.009730e+10\n",
              "4  1964  5.906225e+10\n",
              "5  1965  6.970915e+10\n",
              "6  1966  7.587943e+10\n",
              "7  1967  7.205703e+10\n",
              "8  1968  6.999350e+10\n",
              "9  1969  7.871882e+10"
            ]
          },
          "execution_count": 1,
          "metadata": {},
          "output_type": "execute_result"
        }
      ],
      "source": [
        "import numpy as np\n",
        "import pandas as pd\n",
        "import matplotlib.pyplot as plt\n",
        "%matplotlib inline\n",
        "\n",
        "url=\"https://cf-courses-data.s3.us.cloud-object-storage.appdomain.cloud/IBMDeveloperSkillsNetwork-ML0101EN-SkillsNetwork/labs/Module%202/data/china_gdp.csv\"\n",
        "\n",
        "df = pd.read_csv(url)\n",
        "df.head(10)"
      ]
    },
    {
      "cell_type": "code",
      "execution_count": null,
      "id": "fed98ff8-f856-4ec1-9fb2-b570d30344ae",
      "metadata": {
        "id": "fed98ff8-f856-4ec1-9fb2-b570d30344ae",
        "outputId": "b21d39fa-56c2-4cc9-ba2d-e79790890bb5"
      },
      "outputs": [
        {
          "data": {
            "image/png": "[encoded data removed]",
            "text/plain": [
              "<Figure size 576x360 with 1 Axes>"
            ]
          },
          "metadata": {
            "needs_background": "light"
          },
          "output_type": "display_data"
        }
      ],
      "source": [
        "plt.figure(figsize=(8,5))\n",
        "x_data, y_data = (df[\"Year\"].values, df[\"Value\"].values)\n",
        "plt.plot(x_data, y_data, 'ro')\n",
        "plt.ylabel('GDP')\n",
        "plt.xlabel('Year')\n",
        "plt.show()"
      ]
    },
    {
      "cell_type": "markdown",
      "id": "6ea051fd-2dd4-4337-b550-acad10f4ea84",
      "metadata": {
        "id": "6ea051fd-2dd4-4337-b550-acad10f4ea84"
      },
      "source": [
        "## Ma'lumotlarni ajratib olamiz va Normalizasiya qilamiz"
      ]
    },
    {
      "cell_type": "code",
      "execution_count": null,
      "id": "cf12d5a6-1d79-4b12-ba74-72b7234e08bc",
      "metadata": {
        "id": "cf12d5a6-1d79-4b12-ba74-72b7234e08bc"
      },
      "outputs": [],
      "source": [
        "X = np.asanyarray(df[['Year']]/df.Year.max())\n",
        "y = np.asanyarray(df[['Value']]/df.Value.max())"
      ]
    },
    {
      "cell_type": "markdown",
      "id": "2ed1e6d7-c9bb-4736-9bc3-15a1bdbb5032",
      "metadata": {
        "id": "2ed1e6d7-c9bb-4736-9bc3-15a1bdbb5032"
      },
      "source": [
        "## Linear regression"
      ]
    },
    {
      "cell_type": "code",
      "execution_count": null,
      "id": "59e86ba4-1edc-4d5b-8984-f298fba88ccc",
      "metadata": {
        "id": "59e86ba4-1edc-4d5b-8984-f298fba88ccc",
        "outputId": "307b4a7e-d674-41bc-ac9f-0661febb1209"
      },
      "outputs": [
        {
          "data": {
            "text/plain": [
              "LinearRegression()"
            ]
          },
          "execution_count": 4,
          "metadata": {},
          "output_type": "execute_result"
        }
      ],
      "source": [
        "from sklearn.linear_model import LinearRegression\n",
        "\n",
        "model = LinearRegression()\n",
        "model.fit(X, y)"
      ]
    },
    {
      "cell_type": "code",
      "execution_count": null,
      "id": "29f0809b-4f6d-453c-90fa-25eff3e4f3a8",
      "metadata": {
        "id": "29f0809b-4f6d-453c-90fa-25eff3e4f3a8"
      },
      "outputs": [],
      "source": [
        "yhat = model.predict(X)"
      ]
    },
    {
      "cell_type": "code",
      "execution_count": null,
      "id": "df63092e-7f5c-47de-a390-c40c1b32ef71",
      "metadata": {
        "id": "df63092e-7f5c-47de-a390-c40c1b32ef71",
        "outputId": "313d7eaa-4ca3-4160-e47f-26de3a31e89e"
      },
      "outputs": [
        {
          "data": {
            "image/png": "[encoded data removed]",
            "text/plain": [
              "<Figure size 720x432 with 1 Axes>"
            ]
          },
          "metadata": {
            "needs_background": "light"
          },
          "output_type": "display_data"
        }
      ],
      "source": [
        "plt.figure(figsize=(10,6))\n",
        "plt.plot(X, y, 'ro', label='data')\n",
        "plt.plot(X,yhat, linewidth=3.0, label='fit')\n",
        "plt.show()"
      ]
    },
    {
      "cell_type": "code",
      "execution_count": null,
      "id": "014964bf-3941-4380-b4d0-49f0ac917f15",
      "metadata": {
        "id": "014964bf-3941-4380-b4d0-49f0ac917f15",
        "outputId": "9cfab741-577e-4322-a339-103a377d4cd2"
      },
      "outputs": [
        {
          "name": "stdout",
          "output_type": "stream",
          "text": [
            "MAE: 0.12657979406214762\n"
          ]
        }
      ],
      "source": [
        "from sklearn.metrics import mean_absolute_error\n",
        "\n",
        "print(\"MAE:\", mean_absolute_error(yhat,y))"
      ]
    },
    {
      "cell_type": "code",
      "execution_count": null,
      "id": "d113682a-27d9-4689-b88b-f21406670120",
      "metadata": {
        "id": "d113682a-27d9-4689-b88b-f21406670120",
        "outputId": "35eb70f6-98f5-4662-e424-063b9636c633"
      },
      "outputs": [
        {
          "data": {
            "text/plain": [
              "array([0.97318769])"
            ]
          },
          "execution_count": 48,
          "metadata": {},
          "output_type": "execute_result"
        }
      ],
      "source": [
        "X[0]"
      ]
    },
    {
      "cell_type": "markdown",
      "id": "8ec96a65-0506-4c16-bdaf-4828b0c66f3c",
      "metadata": {
        "id": "8ec96a65-0506-4c16-bdaf-4828b0c66f3c"
      },
      "source": [
        "## Polynomial regression"
      ]
    },
    {
      "cell_type": "code",
      "execution_count": null,
      "id": "d2740aa0-fb2c-4560-a42a-7c5854e7d086",
      "metadata": {
        "id": "d2740aa0-fb2c-4560-a42a-7c5854e7d086"
      },
      "outputs": [],
      "source": [
        "from sklearn.preprocessing import PolynomialFeatures\n",
        "\n",
        "poly_features = PolynomialFeatures(degree=5, include_bias=False)\n",
        "X_poly = poly_features.fit_transform(X)"
      ]
    },
    {
      "cell_type": "code",
      "execution_count": null,
      "id": "42efbf11-6be7-40d3-9bea-33a3ee493867",
      "metadata": {
        "id": "42efbf11-6be7-40d3-9bea-33a3ee493867",
        "outputId": "23ec19a5-4711-447e-cd84-65843bd8f2b5"
      },
      "outputs": [
        {
          "data": {
            "text/plain": [
              "LinearRegression()"
            ]
          },
          "execution_count": 71,
          "metadata": {},
          "output_type": "execute_result"
        }
      ],
      "source": [
        "model.fit(X_poly, y)"
      ]
    },
    {
      "cell_type": "code",
      "execution_count": null,
      "id": "cb4aa6a2-a52b-4f3a-aa89-fa280ed9bcbb",
      "metadata": {
        "id": "cb4aa6a2-a52b-4f3a-aa89-fa280ed9bcbb"
      },
      "outputs": [],
      "source": [
        "yhat = model.predict(X_poly)"
      ]
    },
    {
      "cell_type": "code",
      "execution_count": null,
      "id": "7b7a2316-1ea5-4159-87f2-f3198a4f0a44",
      "metadata": {
        "id": "7b7a2316-1ea5-4159-87f2-f3198a4f0a44",
        "outputId": "f477875e-a6ef-4bed-c131-a81ac57f5073"
      },
      "outputs": [
        {
          "data": {
            "image/png": "[encoded data removed]",
            "text/plain": [
              "<Figure size 720x432 with 1 Axes>"
            ]
          },
          "metadata": {
            "needs_background": "light"
          },
          "output_type": "display_data"
        }
      ],
      "source": [
        "plt.figure(figsize=(10,6))\n",
        "plt.plot(X, y, 'ro', label='data')\n",
        "plt.plot(X,yhat, linewidth=4.0, label='fit')\n",
        "plt.show()"
      ]
    },
    {
      "cell_type": "code",
      "execution_count": null,
      "id": "e7e61f37-3525-49b1-a17d-59a771f09b94",
      "metadata": {
        "id": "e7e61f37-3525-49b1-a17d-59a771f09b94",
        "outputId": "34f82f0d-73f3-4b89-c08a-a83d01b066e2"
      },
      "outputs": [
        {
          "name": "stdout",
          "output_type": "stream",
          "text": [
            "MAE: 0.009253885059542636\n"
          ]
        }
      ],
      "source": [
        "print(\"MAE:\", mean_absolute_error(yhat,y))"
      ]
    },
    {
      "cell_type": "markdown",
      "id": "06c80c49-7080-45fe-b1c7-0e66a065e337",
      "metadata": {
        "id": "06c80c49-7080-45fe-b1c7-0e66a065e337"
      },
      "source": [
        "## `curve_fit`\n",
        "'curve_fit' yordamida o'zimiz yozgan funksiyalar asosida model qurishimiz mumkin.\n",
        "\n",
        "Misol uchun, yuqoridagi ma'lumotlar Logistic regression funksiyasi yordamida aniqroq bashorat qilinishi mumkin.\n",
        "\n",
        "# $$ \\hat{Y} = \\frac1{1+e^{-\\beta_1(X-\\beta_2)}}$$\n",
        "\n",
        "Keling, logisti regression funksiyasini yozib olamiz:"
      ]
    },
    {
      "cell_type": "code",
      "execution_count": null,
      "id": "b95f2b1f-e385-4ce5-8820-e2d6494b796e",
      "metadata": {
        "id": "b95f2b1f-e385-4ce5-8820-e2d6494b796e"
      },
      "outputs": [],
      "source": [
        "x_data, y_data = (df[\"Year\"].values, df[\"Value\"].values)\n",
        "xdata =x_data/max(x_data)\n",
        "ydata =y_data/max(y_data)"
      ]
    },
    {
      "cell_type": "code",
      "execution_count": null,
      "id": "14bb3685-109b-4573-92a6-4bb4324142fb",
      "metadata": {
        "id": "14bb3685-109b-4573-92a6-4bb4324142fb"
      },
      "outputs": [],
      "source": [
        "def sigmoid(x, Beta_1, Beta_2):\n",
        "     y = 1 / (1 + np.exp(-Beta_1*(x-Beta_2)))\n",
        "     return y"
      ]
    },
    {
      "cell_type": "code",
      "execution_count": null,
      "id": "e3246468-312f-459a-90cf-bab44f89ff78",
      "metadata": {
        "id": "e3246468-312f-459a-90cf-bab44f89ff78",
        "outputId": "e29ebdda-c179-4e76-eff3-e3305b398fc0"
      },
      "outputs": [
        {
          "name": "stdout",
          "output_type": "stream",
          "text": [
            "beta1=690.4517109968472\n",
            "beta2=0.9972071272536187\n"
          ]
        }
      ],
      "source": [
        "from scipy.optimize import curve_fit\n",
        "\n",
        "beta, pcov = curve_fit(sigmoid, xdata, ydata)\n",
        "print(f\"beta1={beta[0]}\\nbeta2={beta[1]}\")"
      ]
    },
    {
      "cell_type": "code",
      "execution_count": null,
      "id": "f1996d9b-03d6-42f7-8a9f-b7f09a801785",
      "metadata": {
        "id": "f1996d9b-03d6-42f7-8a9f-b7f09a801785",
        "outputId": "e43f2446-6fba-472a-adbb-dc6473962247"
      },
      "outputs": [
        {
          "data": {
            "image/png": "[encoded data removed]",
            "text/plain": [
              "<Figure size 576x360 with 1 Axes>"
            ]
          },
          "metadata": {
            "needs_background": "light"
          },
          "output_type": "display_data"
        }
      ],
      "source": [
        "x = np.linspace(1960, 2015, 55)\n",
        "x = x/max(x)\n",
        "plt.figure(figsize=(8,5))\n",
        "yhat = sigmoid(x, *beta)\n",
        "plt.plot(xdata, ydata, 'ro', label='data')\n",
        "plt.plot(x,yhat, linewidth=3.0, label='fit')\n",
        "plt.legend(loc='best')\n",
        "plt.ylabel('GDP')\n",
        "plt.xlabel('Year')\n",
        "plt.show()"
      ]
    },
    {
      "cell_type": "code",
      "execution_count": null,
      "id": "13345321-4c22-4ea1-b0f2-a729518035df",
      "metadata": {
        "id": "13345321-4c22-4ea1-b0f2-a729518035df",
        "outputId": "5b3ac1ef-8709-4247-ff6a-d8ba7392a3d0"
      },
      "outputs": [
        {
          "name": "stdout",
          "output_type": "stream",
          "text": [
            "MAE: 0.030498418832325392\n"
          ]
        }
      ],
      "source": [
        "print(\"MAE:\", mean_absolute_error(yhat,ydata))"
      ]
    }
  ],
  "metadata": {
    "language_info": {
      "codemirror_mode": {
        "name": "ipython",
        "version": 3
      },
      "file_extension": ".py",
      "mimetype": "text/x-python",
      "name": "python",
      "nbconvert_exporter": "python",
      "pygments_lexer": "ipython3",
      "version": "3.8.8"
    },
    "colab": {
      "provenance": []
    }
  },
  "nbformat": 4,
  "nbformat_minor": 5
}